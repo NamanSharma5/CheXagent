{
 "cells": [
  {
   "cell_type": "code",
   "execution_count": 1,
   "metadata": {},
   "outputs": [],
   "source": [
    "import torch\n",
    "import torch.nn as nn\n",
    "import torch.nn.functional as F"
   ]
  },
  {
   "cell_type": "code",
   "execution_count": 2,
   "metadata": {},
   "outputs": [],
   "source": [
    "class GatedResidualLayer(nn.Module):\n",
    "    def __init__(self, hidden_size):\n",
    "        super().__init__()\n",
    "        # self.fc = nn.Linear(hidden_size, hidden_size) # avoiding linear layer for now\n",
    "        self.attention = nn.MultiheadAttention(hidden_size, 1)\n",
    "        self.layer_norm = nn.LayerNorm(hidden_size)\n",
    "        self.gate = nn.Parameter(torch.tensor(0.0)) # gating could be more fine-grained (one per dimension) nn.Parameter(torch.zeros(hidden_size))\n",
    "\n",
    "    def forward(self, x):\n",
    "        residual = x\n",
    "        x = self.attention(x, x, x)[0]  \n",
    "        x = F.gelu(x)\n",
    "        x = self.layer_norm(x)\n",
    "        x = x * self.gate + residual\n",
    "        return x"
   ]
  }
 ],
 "metadata": {
  "kernelspec": {
   "display_name": ".tuning_venv",
   "language": "python",
   "name": "python3"
  },
  "language_info": {
   "codemirror_mode": {
    "name": "ipython",
    "version": 3
   },
   "file_extension": ".py",
   "mimetype": "text/x-python",
   "name": "python",
   "nbconvert_exporter": "python",
   "pygments_lexer": "ipython3",
   "version": "3.10.12"
  }
 },
 "nbformat": 4,
 "nbformat_minor": 2
}
