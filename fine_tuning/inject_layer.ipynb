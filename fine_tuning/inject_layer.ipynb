{
 "cells": [
  {
   "cell_type": "code",
   "execution_count": 1,
   "metadata": {},
   "outputs": [],
   "source": [
    "import torch\n",
    "import torch.nn as nn\n",
    "import torch.nn.functional as F\n",
    "import pandas as pd\n",
    "import numpy as np\n",
    "from pathlib import Path\n",
    "from torch.utils.data import Dataset, DataLoader"
   ]
  },
  {
   "cell_type": "code",
   "execution_count": 2,
   "metadata": {},
   "outputs": [],
   "source": [
    "class GatedResidualLayer(nn.Module):\n",
    "    def __init__(self, hidden_size):\n",
    "        super().__init__()\n",
    "        # self.fc = nn.Linear(hidden_size, hidden_size) # avoiding linear layer for now\n",
    "        self.attention = nn.MultiheadAttention(hidden_size, 1)\n",
    "        self.layer_norm = nn.LayerNorm(hidden_size)\n",
    "        self.gate = nn.Parameter(torch.tensor(0.0)) # gating could be more fine-grained (one per dimension) nn.Parameter(torch.zeros(hidden_size))\n",
    "\n",
    "    def forward(self, x):\n",
    "        residual = x\n",
    "        x = self.attention(x, x, x)[0]  \n",
    "        x = F.gelu(x)\n",
    "        x = self.layer_norm(x)\n",
    "        x = x * self.gate + residual\n",
    "        return x\n",
    "\n",
    "class PredictionHead(nn.Module):\n",
    "    def __init__(self, input_dim, num_classes):\n",
    "        super(PredictionHead, self).__init__()\n",
    "        # Global Average Pooling across the sequence dimension\n",
    "        self.gap = nn.AdaptiveAvgPool1d(1)\n",
    "        # Optional: Additional linear layers can be added here for more complexity\n",
    "        self.fc1 = nn.Linear(input_dim, num_classes)\n",
    "        \n",
    "    def forward(self, x):\n",
    "        # Applying global average pooling\n",
    "        x = x.transpose(1, 2) # Change to [batch_size, 768, 128] to match pooling dimension\n",
    "        x = self.gap(x).squeeze() # After pooling, size: [batch_size, 768]\n",
    "        x = self.fc1(x)\n",
    "        return x\n",
    "\n",
    "# model = join together the GatedResidualLayer and PredictionHead\n",
    "class AddedGatedResidualLayer(nn.Module):\n",
    "    def __init__(self, hidden_size, num_classes):\n",
    "        super().__init__()\n",
    "        self.gated_residual_layer = GatedResidualLayer(hidden_size)\n",
    "        self.prediction_head = PredictionHead(hidden_size, num_classes)\n",
    "        \n",
    "    def forward(self, x):\n",
    "        x = self.gated_residual_layer(x)\n",
    "        x = self.prediction_head(x)\n",
    "        return x"
   ]
  },
  {
   "cell_type": "code",
   "execution_count": 30,
   "metadata": {},
   "outputs": [],
   "source": [
    "class VinDrWithBinaryPathologyLocations(Dataset):\n",
    "    def __init__(self, dataframe):\n",
    "        self.dataframe = dataframe\n",
    "        # Extract just the columns that indicate pathologies (left or right in their names)\n",
    "        self.pathology_columns = [col for col in dataframe.columns if 'left' in col or 'right' in col]\n",
    "        \n",
    "    def __len__(self):\n",
    "        return len(self.dataframe)\n",
    "    \n",
    "    def __getitem__(self, idx):\n",
    "        row = self.dataframe.iloc[idx]\n",
    "        \n",
    "        # Extract embeddings and drop the first dimension i.e. [1,128,768] -> [128,768]\n",
    "        embeddings = torch.tensor(row['q_former'], dtype=torch.float).squeeze()\n",
    "        \n",
    "        # Extract binary labels for pathologies\n",
    "        labels_values = row[self.pathology_columns].values\n",
    "        # set the dtype of each item in values to be an int\n",
    "        labels_values = [int(item) for item in labels_values]\n",
    "        labels_tensor = torch.tensor(labels_values, dtype=torch.float)\n",
    "        \n",
    "        return embeddings, labels_tensor"
   ]
  },
  {
   "cell_type": "code",
   "execution_count": 3,
   "metadata": {},
   "outputs": [],
   "source": [
    "stored_df_for_training_layer_path = Path('/vol/biomedic3/bglocker/ugproj2324/nns20/CheXagent/model_inspection/embeddings/no_tuning_4934e91451945c8218c267aae9c34929a7677829/test_VinDr_df_for_training_layer.pkl')\n",
    "df = pd.read_pickle(stored_df_for_training_layer_path)"
   ]
  },
  {
   "cell_type": "code",
   "execution_count": 41,
   "metadata": {},
   "outputs": [],
   "source": [
    "# hyperparams\n",
    "training_proportion = 0.8\n",
    "validation_proportion = 0.1\n",
    "batch_size = 32\n",
    "\n",
    "learning_rate = 0.0001\n",
    "weight_decay = 0.0001\n",
    "num_epochs = 10"
   ]
  },
  {
   "cell_type": "code",
   "execution_count": 31,
   "metadata": {},
   "outputs": [],
   "source": [
    "dataset = VinDrWithBinaryPathologyLocations(df)\n",
    "# split into training, validation and test sets with 0.8, 0.1, 0.1 , then create dataloaders from these\n",
    "train_size = int(training_proportion * len(dataset))\n",
    "val_size = int(validation_proportion * len(dataset))\n",
    "test_size = len(dataset) - train_size - val_size\n",
    "\n",
    "train_dataset, val_dataset, test_dataset = torch.utils.data.random_split(dataset, [train_size, val_size, test_size])\n",
    "\n",
    "train_loader = DataLoader(train_dataset, batch_size=batch_size, shuffle=True)\n",
    "val_loader = DataLoader(val_dataset, batch_size=batch_size, shuffle=True)\n",
    "test_loader = DataLoader(test_dataset, batch_size=batch_size, shuffle=True)"
   ]
  },
  {
   "cell_type": "code",
   "execution_count": 37,
   "metadata": {},
   "outputs": [],
   "source": [
    "def calculate_metrics(outputs, labels):\n",
    "    # Apply sigmoid to get predicted probabilities \n",
    "    predictions = torch.sigmoid(outputs)  \n",
    "\n",
    "    # Threshold for determining positive predictions (adjust as needed)\n",
    "    predictions = predictions > 0.5   \n",
    "\n",
    "    # Calculate metrics row-wise, considering all pathologies\n",
    "    accuracy = (predictions == labels).float().mean(dim=1)  \n",
    "    precision = torch.logical_and(predictions, labels).float().sum(dim=1) / predictions.sum(dim=1)\n",
    "    recall = torch.logical_and(predictions, labels).float().sum(dim=1) / labels.sum(dim=1) \n",
    "    f1_score = 2 * (precision * recall) / (precision + recall)\n",
    "\n",
    "    # Handle rows where predictions or ground truth are all zeros (to avoid NaNs)\n",
    "    precision[torch.isnan(precision)] = 0\n",
    "    recall[torch.isnan(recall)] = 0\n",
    "    f1_score[torch.isnan(f1_score)] = 0\n",
    "\n",
    "    # Average metrics across the batch\n",
    "    accuracy = accuracy.mean()\n",
    "    precision = precision.mean()\n",
    "    recall = recall.mean()\n",
    "    f1_score = f1_score.mean()\n",
    "\n",
    "    return accuracy, precision, recall, f1_score"
   ]
  },
  {
   "cell_type": "code",
   "execution_count": 33,
   "metadata": {},
   "outputs": [],
   "source": [
    "model = AddedGatedResidualLayer(768, len(dataset.pathology_columns))"
   ]
  },
  {
   "cell_type": "code",
   "execution_count": 43,
   "metadata": {},
   "outputs": [
    {
     "name": "stdout",
     "output_type": "stream",
     "text": [
      "Epoch [1/10], Validation Loss: 0.057257329672575, Validation Accuracy: 0.9818947911262512\n",
      "Epoch [2/10], Validation Loss: 0.05819852780550718, Validation Accuracy: 0.9810764193534851\n",
      "Epoch [3/10], Validation Loss: 0.05590075068175793, Validation Accuracy: 0.9814236760139465\n",
      "Epoch [4/10], Validation Loss: 0.055868754722177984, Validation Accuracy: 0.9815227389335632\n",
      "Epoch [5/10], Validation Loss: 0.05572538673877716, Validation Accuracy: 0.9814483523368835\n",
      "Epoch [6/10], Validation Loss: 0.05697436258196831, Validation Accuracy: 0.9816965460777283\n",
      "Epoch [7/10], Validation Loss: 0.05842150785028934, Validation Accuracy: 0.9806795120239258\n",
      "Epoch [8/10], Validation Loss: 0.059920340962708, Validation Accuracy: 0.9808531999588013\n",
      "Epoch [9/10], Validation Loss: 0.05861774533987045, Validation Accuracy: 0.9809524416923523\n",
      "Epoch [10/10], Validation Loss: 0.05782097969204188, Validation Accuracy: 0.9812995791435242\n"
     ]
    }
   ],
   "source": [
    "device = torch.device('cuda' if torch.cuda.is_available() else 'cpu')\n",
    "model = model.to(device) # Step 2: Move the model to the selected device\n",
    "criterion = nn.BCEWithLogitsLoss()\n",
    "optimizer = torch.optim.Adam(model.parameters(), lr=learning_rate, weight_decay=weight_decay)\n",
    "\n",
    "for epoch in range(num_epochs):\n",
    "    for data in train_loader: # Assuming you have a dataloader\n",
    "        embeddings, labels = data\n",
    "        embeddings, labels = embeddings.to(device), labels.to(device) # Move data to the same device as model\n",
    "        \n",
    "        optimizer.zero_grad()\n",
    "        \n",
    "        outputs = model(embeddings)\n",
    "        \n",
    "        loss = criterion(outputs, labels)\n",
    "\n",
    "        loss.backward()\n",
    "        optimizer.step()\n",
    "        \n",
    "    # calculate validation metrics per epoch\n",
    "    with torch.no_grad():\n",
    "        overall_epoch_accuracy = 0\n",
    "        overall_val_loss = 0\n",
    "        \n",
    "        for data in val_loader:\n",
    "            embeddings, labels = data\n",
    "            embeddings, labels = embeddings.to(device), labels.to(device)  # Move data to the same device as model\n",
    "            outputs = model(embeddings)\n",
    "            loss = criterion(outputs, labels)\n",
    "            batch_accuracy, batch_precision, batch_recall, batch_f1 = calculate_metrics(outputs,labels)\n",
    "            overall_val_loss += loss.item()\n",
    "            overall_epoch_accuracy += batch_accuracy\n",
    "        \n",
    "        overall_val_loss /= len(val_loader)\n",
    "        overall_epoch_accuracy /= len(val_loader)\n",
    "        print(f'Epoch [{epoch+1}/{num_epochs}], Validation Loss: {overall_val_loss}, Validation Accuracy: {overall_epoch_accuracy}')"
   ]
  }
 ],
 "metadata": {
  "kernelspec": {
   "display_name": ".tuning_venv",
   "language": "python",
   "name": "python3"
  },
  "language_info": {
   "codemirror_mode": {
    "name": "ipython",
    "version": 3
   },
   "file_extension": ".py",
   "mimetype": "text/x-python",
   "name": "python",
   "nbconvert_exporter": "python",
   "pygments_lexer": "ipython3",
   "version": "3.10.12"
  }
 },
 "nbformat": 4,
 "nbformat_minor": 2
}
