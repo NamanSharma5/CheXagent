{
 "cells": [
  {
   "cell_type": "code",
   "execution_count": 2,
   "metadata": {},
   "outputs": [],
   "source": [
    "import torch\n",
    "from torch.utils.data import Dataset, DataLoader\n",
    "from transformers import AutoModelForCausalLM, AutoProcessor, AdamW, get_cosine_schedule_with_warmup\n",
    "from pathlib import Path\n",
    "from PIL import Image"
   ]
  },
  {
   "cell_type": "code",
   "execution_count": 5,
   "metadata": {},
   "outputs": [],
   "source": [
    "test_png_dset_path = Path('/vol/biodata/data/chest_xray/VinDr-CXR/1.0.0_png_512/raw/test')\n",
    "\n",
    "class VinDrImageTextDataset(Dataset):\n",
    "    def __init__(self, file_path):\n",
    "        self.image_paths = []\n",
    "        self.texts = []\n",
    "        with open(file_path, 'r') as f:\n",
    "            for line in f:\n",
    "                image_path, text = line.strip().split(';')\n",
    "                self.image_paths.append(image_path)\n",
    "                self.texts.append(text)\n",
    "              \n",
    "    def __len__(self):\n",
    "        return len(self.image_paths)\n",
    "    \n",
    "    def __getitem__(self, idx):\n",
    "        image_path = self.image_paths[idx]\n",
    "        text = self.texts[idx]\n",
    "        image = Image.open(image_path).convert(\"RGB\")\n",
    "        return image, text\n",
    "\n",
    "dset = VinDrImageTextDataset('/vol/biomedic3/bglocker/ugproj2324/nns20/datasets/VinDr-CXR/image_text_reasoning_datasets/test_tuning_all_left_or_right')"
   ]
  },
  {
   "cell_type": "code",
   "execution_count": null,
   "metadata": {},
   "outputs": [],
   "source": [
    "\n",
    "def fine_tune_chexagent():\n",
    "    # Load the pretrained CheXagent model\n",
    "    processor, model, device, dtype, generation_config = setup_model()\n",
    "    \n",
    "    # Freeze the vision encoder and language model\n",
    "    model.vision_model.requires_grad_(False)\n",
    "    model.language_model.requires_grad_(False)\n",
    "    \n",
    "    # Make the vision-language bridge trainable\n",
    "    model.language_projection.requires_grad_(True)\n",
    "    \n",
    "    # Prepare the dataset\n",
    "    train_dataset = ImageTextDataset(train_image_paths, train_texts)\n",
    "    val_dataset = ImageTextDataset(val_image_paths, val_texts)\n",
    "    train_loader = DataLoader(train_dataset, batch_size=32, shuffle=True)\n",
    "    val_loader = DataLoader(val_dataset, batch_size=32)\n",
    "    \n",
    "    # Set up the optimizer and learning rate scheduler\n",
    "    optimizer = AdamW(model.language_projection.parameters(), lr=1e-4, betas=(0.9, 0.999), eps=1e-8, weight_decay=0.05)\n",
    "    num_epochs = 10\n",
    "    num_training_steps = num_epochs * len(train_loader)\n",
    "    lr_scheduler = get_cosine_schedule_with_warmup(optimizer, num_warmup_steps=0, num_training_steps=num_training_steps)\n",
    "    \n",
    "    # Training loop\n",
    "    for epoch in range(num_epochs):\n",
    "        model.train()\n",
    "        for images, texts in train_loader:\n",
    "            inputs = processor(images=images, text=texts, return_tensors=\"pt\").to(device, dtype=dtype)\n",
    "            outputs = model(**inputs)\n",
    "            loss = outputs.loss\n",
    "            loss.backward()\n",
    "            torch.nn.utils.clip_grad_norm_(model.language_projection.parameters(), 1.0)\n",
    "            optimizer.step()\n",
    "            lr_scheduler.step()\n",
    "            optimizer.zero_grad()\n",
    "        \n",
    "        # Evaluation\n",
    "        model.eval()\n",
    "        val_loss = 0\n",
    "        with torch.no_grad():\n",
    "            for images, texts in val_loader:\n",
    "                inputs = processor(images=images, text=texts, return_tensors=\"pt\").to(device, dtype=dtype)\n",
    "                outputs = model(**inputs)\n",
    "                val_loss += outputs.loss.item()\n",
    "        val_loss /= len(val_loader)\n",
    "        print(f\"Epoch {epoch+1}/{num_epochs} - Validation Loss: {val_loss:.4f}\")\n",
    "    \n",
    "    # Save the fine-tuned model\n",
    "    model.save_pretrained(\"fine_tuned_chexagent\")\n",
    "\n",
    "if __name__ == '__main__':\n",
    "    fine_tune_chexagent()"
   ]
  }
 ],
 "metadata": {
  "kernelspec": {
   "display_name": ".venv",
   "language": "python",
   "name": "python3"
  },
  "language_info": {
   "codemirror_mode": {
    "name": "ipython",
    "version": 3
   },
   "file_extension": ".py",
   "mimetype": "text/x-python",
   "name": "python",
   "nbconvert_exporter": "python",
   "pygments_lexer": "ipython3",
   "version": "3.10.12"
  }
 },
 "nbformat": 4,
 "nbformat_minor": 2
}
