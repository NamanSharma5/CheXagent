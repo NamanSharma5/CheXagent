{
 "cells": [
  {
   "cell_type": "code",
   "execution_count": 1,
   "metadata": {},
   "outputs": [],
   "source": [
    "#USE HI-ML-UP-TO-DATE VENV \n",
    "import torch\n",
    "from torch.utils.data import Dataset, DataLoader\n",
    "from PIL import Image\n",
    "from pathlib import Path\n",
    "\n",
    "import os\n",
    "os.environ['HF_HOME'] = '/vol/biomedic3/bglocker/ugproj2324/nns20/CheXagent/.tuned_projection_model' ## THIS HAS TO BE BEFORE YOU IMPORT TRANSFORMERScd\n",
    "from transformers import AutoModelForCausalLM, AutoProcessor, GenerationConfig, AdamW, get_cosine_schedule_with_warmup\n",
    "from torchvision import transforms # THIS HAS TO BE AFTER THE ABOVE LINES\n"
   ]
  },
  {
   "cell_type": "code",
   "execution_count": 2,
   "metadata": {},
   "outputs": [],
   "source": [
    "\n",
    "def setup_model() -> tuple:\n",
    "    device = \"cuda\"\n",
    "    dtype = torch.bfloat16\n",
    "\n",
    "    processor = AutoProcessor.from_pretrained(\"StanfordAIMI/CheXagent-8b\", trust_remote_code=True)\n",
    "    model = AutoModelForCausalLM.from_pretrained(\n",
    "        \"StanfordAIMI/CheXagent-8b\", torch_dtype=dtype, trust_remote_code=True\n",
    "    ).to(device)\n",
    "    generation_config = GenerationConfig.from_pretrained(\"StanfordAIMI/CheXagent-8b\")\n",
    "\n",
    "    return processor, model, device, dtype, generation_config\n",
    "\n",
    "def generate(images, prompt, processor, model, device, dtype, generation_config):\n",
    "    inputs = processor(\n",
    "        images=images, text=f\" USER: <s>{prompt} ASSISTANT: <s>\", return_tensors=\"pt\"\n",
    "    ).to(device=device, dtype=dtype)\n",
    "    output = model.generate(**inputs, generation_config=generation_config)[0]\n",
    "    response = processor.tokenizer.decode(output, skip_special_tokens=True)\n",
    "    return response\n"
   ]
  },
  {
   "cell_type": "code",
   "execution_count": 3,
   "metadata": {},
   "outputs": [
    {
     "data": {
      "application/vnd.jupyter.widget-view+json": {
       "model_id": "e18d95cc3a854794a58a02e325a682d2",
       "version_major": 2,
       "version_minor": 0
      },
      "text/plain": [
       "Loading checkpoint shards:   0%|          | 0/7 [00:00<?, ?it/s]"
      ]
     },
     "metadata": {},
     "output_type": "display_data"
    }
   ],
   "source": [
    "processor, model, device, dtype, generation_config = setup_model()\n",
    "        "
   ]
  },
  {
   "cell_type": "code",
   "execution_count": 4,
   "metadata": {},
   "outputs": [
    {
     "name": "stdout",
     "output_type": "stream",
     "text": [
      "<class 'transformers_modules.StanfordAIMI.CheXagent-8b.4934e91451945c8218c267aae9c34929a7677829.modeling_chexagent.CheXagentForConditionalGeneration'>\n"
     ]
    }
   ],
   "source": [
    "print(type(model))"
   ]
  },
  {
   "cell_type": "code",
   "execution_count": 6,
   "metadata": {},
   "outputs": [
    {
     "name": "stderr",
     "output_type": "stream",
     "text": [
      "/vol/biomedic3/bglocker/ugproj2324/nns20/CheXagent/.tuned_projection_model/modules/transformers_modules/StanfordAIMI/CheXagent-8b/4934e91451945c8218c267aae9c34929a7677829/processing_chexagent.py:86: UserWarning: To copy construct from a tensor, it is recommended to use sourceTensor.clone().detach() or sourceTensor.clone().detach().requires_grad_(True), rather than torch.tensor(sourceTensor).\n",
      "  [torch.tensor(pixel_values) for pixel_values in encoding_image_processor[\"pixel_values\"]]\n",
      "Setting `pad_token_id` to `eos_token_id`:2 for open-end generation.\n"
     ]
    },
    {
     "name": "stdout",
     "output_type": "stream",
     "text": [
      "tmp.shape=torch.Size([2, 1025, 1408])\n",
      "image_embeds.shape=torch.Size([1, 2, 1025, 1408])\n",
      "query_output.shape=torch.Size([1, 128, 768])\n",
      "The cardiomediastinal silhouette is within normal limits. There are bilateral pleural effusions with associated bibasilar atelectasis. There is no pneumothorax.\n"
     ]
    }
   ],
   "source": [
    "prompt = 'Describe the findings in the image.'\n",
    "path = \"/vol/biodata/data/chest_xray/mimic-cxr-jpg/files/p10/p10002428/s59891001/df59ff50-56f1fd83-f3664b8b-8e2c67dd-d5f0d039.jpg\"\n",
    "test_png_dset_path = '/vol/biodata/data/chest_xray/VinDr-CXR/1.0.0_png_512/raw/test/688ecdb1a4e994d42b5a50a8c4a9736f.png'\n",
    "paths = [path]#, test_png_dset_path]\n",
    "image = Image.open(test_png_dset_path).convert(\"RGB\")\n",
    "transform = transforms.Compose([transforms.PILToTensor()])\n",
    "images = [transform(Image.open(path).convert(\"RGB\")) for path in paths]\n",
    "response = generate(images, prompt, processor, model, device, dtype, generation_config)\n",
    "print(response)"
   ]
  }
 ],
 "metadata": {
  "kernelspec": {
   "display_name": ".venv",
   "language": "python",
   "name": "python3"
  },
  "language_info": {
   "codemirror_mode": {
    "name": "ipython",
    "version": 3
   },
   "file_extension": ".py",
   "mimetype": "text/x-python",
   "name": "python",
   "nbconvert_exporter": "python",
   "pygments_lexer": "ipython3",
   "version": "3.10.12"
  }
 },
 "nbformat": 4,
 "nbformat_minor": 2
}
