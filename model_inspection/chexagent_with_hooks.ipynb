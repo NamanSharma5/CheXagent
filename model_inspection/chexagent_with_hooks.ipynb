{
 "cells": [
  {
   "cell_type": "code",
   "execution_count": 3,
   "metadata": {},
   "outputs": [
    {
     "name": "stderr",
     "output_type": "stream",
     "text": [
      "/vol/biomedic3/bglocker/ugproj2324/nns20/CheXagent/.venv/lib/python3.10/site-packages/tqdm/auto.py:21: TqdmWarning: IProgress not found. Please update jupyter and ipywidgets. See https://ipywidgets.readthedocs.io/en/stable/user_install.html\n",
      "  from .autonotebook import tqdm as notebook_tqdm\n"
     ]
    }
   ],
   "source": [
    "import io\n",
    "from PIL import Image\n",
    "from pathlib import Path\n",
    "import os\n",
    "import torch\n",
    "from sklearn.manifold import TSNE\n",
    "import pickle\n",
    "import numpy as np\n",
    "import matplotlib.pyplot as plt\n",
    "os.environ['HF_HOME'] = '/vol/biomedic3/bglocker/ugproj2324/nns20/CheXagent/.cache' ## THIS HAS TO BE BEFORE YOU IMPORT TRANSFORMERS\n",
    "from transformers import AutoProcessor, AutoModelForCausalLM, GenerationConfig"
   ]
  },
  {
   "cell_type": "code",
   "execution_count": 4,
   "metadata": {},
   "outputs": [
    {
     "name": "stderr",
     "output_type": "stream",
     "text": [
      "Loading checkpoint shards: 100%|██████████| 7/7 [00:02<00:00,  2.41it/s]\n"
     ]
    }
   ],
   "source": [
    "def setup_model() -> tuple:\n",
    "    device = \"cuda\" if torch.cuda.is_available() else \"cpu\"\n",
    "    dtype = torch.float16\n",
    "\n",
    "    processor = AutoProcessor.from_pretrained(\"StanfordAIMI/CheXagent-8b\", trust_remote_code=True)\n",
    "    generation_config = GenerationConfig.from_pretrained(\"StanfordAIMI/CheXagent-8b\")\n",
    "    model = AutoModelForCausalLM.from_pretrained(\n",
    "        \"StanfordAIMI/CheXagent-8b\", torch_dtype=dtype, trust_remote_code=True\n",
    "    ).to(device)\n",
    "\n",
    "    return processor, model, device, dtype, generation_config\n",
    "\n",
    "processor, model, device, dtype, generation_config = setup_model()"
   ]
  },
  {
   "cell_type": "code",
   "execution_count": 3,
   "metadata": {},
   "outputs": [
    {
     "name": "stdout",
     "output_type": "stream",
     "text": [
      "odict_keys(['vision_model', 'qformer', 'language_projection', 'language_model'])\n",
      "MistralRMSNorm()\n",
      "Linear(in_features=4096, out_features=32000, bias=False)\n"
     ]
    }
   ],
   "source": [
    "# print(model.__dict__.keys())\n",
    "print(model.__dict__[\"_modules\"].keys())\n",
    "print(model.language_model.model.norm)\n",
    "print(model.language_model.lm_head)"
   ]
  },
  {
   "cell_type": "code",
   "execution_count": 1,
   "metadata": {},
   "outputs": [],
   "source": [
    "patch_embeddings_outputs = []\n",
    "\n",
    "def patch_embedding_hook(module, input, output):\n",
    "    \"\"\"Function to be called by the hook for the patch embeddings layer.\"\"\"\n",
    "    print(\"\\n\\nPatch Embedding Hook\")\n",
    "    patch_embeddings_outputs.append(output.cpu().detach())  # Assuming you want to move data to CPU for analysis\n",
    "\n",
    "post_layer_norm_outputs = []\n",
    "\n",
    "def post_layer_norm_hook(module, input, output):\n",
    "    \"\"\"Function to be called by the hook for the post layer norm layer.\"\"\"\n",
    "    print(\"\\nPost Layer Norm Hook\")\n",
    "    print(\"output shape: \", output.shape)\n",
    "    post_layer_norm_outputs.append(output.cpu().detach())  # Assuming you want to move data to CPU for analysis\n",
    "\n",
    "q_former_outputs = []\n",
    "language_projection_outputs = []\n",
    "\n",
    "def language_projection_hook(module, input, output):\n",
    "    \"\"\"Function to be called by the hook for the language projection layer.\"\"\"\n",
    "    print(\"\\nLanguage Projection Hook\")\n",
    "    print(\"Input shape: \", input[0].shape)\n",
    "    q_former_outputs.append(input[0].cpu().detach())  # Assuming you want to move data to CPU for analysis\n",
    "    print(\"Output shape: \", output.shape)\n",
    "    language_projection_outputs.append(output.cpu().detach())  # Assuming you want to move data to CPU for analysis\n",
    "\n",
    "mistral_model_outputs = []\n",
    "\n",
    "def mistral_model_output_hook(module, input, output):\n",
    "    \"\"\"Function to be called by the hook for the mistral norm layer.\"\"\"\n",
    "    print(\"\\nMistral Model Output Hook\")\n",
    "    print(\"Output shape: \", output.shape)\n",
    "    mistral_model_outputs.append(output.cpu().detach())  # Assuming you want to move data to CPU for analysis"
   ]
  },
  {
   "cell_type": "code",
   "execution_count": 4,
   "metadata": {},
   "outputs": [
    {
     "ename": "NameError",
     "evalue": "name 'Path' is not defined",
     "output_type": "error",
     "traceback": [
      "\u001b[0;31m---------------------------------------------------------------------------\u001b[0m",
      "\u001b[0;31mNameError\u001b[0m                                 Traceback (most recent call last)",
      "Cell \u001b[0;32mIn[4], line 1\u001b[0m\n\u001b[0;32m----> 1\u001b[0m sample_image_0 \u001b[38;5;241m=\u001b[39m \u001b[43mPath\u001b[49m(\u001b[38;5;124m'\u001b[39m\u001b[38;5;124m/vol/biodata/data/chest_xray/mimic-cxr-jpg/files/p10/p10002428/s59891001/df59ff50-56f1fd83-f3664b8b-8e2c67dd-d5f0d039.jpg\u001b[39m\u001b[38;5;124m'\u001b[39m)\n\u001b[1;32m      2\u001b[0m sample_image_1\u001b[38;5;241m=\u001b[39m Path(\u001b[38;5;124m'\u001b[39m\u001b[38;5;124m/vol/biodata/data/chest_xray/VinDr-CXR/1.0.0_png_512/raw/test/bfd1974dc9778aadb407a11b57ab748f.png\u001b[39m\u001b[38;5;124m'\u001b[39m)\n\u001b[1;32m      3\u001b[0m sample_image_2 \u001b[38;5;241m=\u001b[39m Path(\u001b[38;5;124m'\u001b[39m\u001b[38;5;124m/vol/biodata/data/chest_xray/VinDr-CXR/1.0.0_png_512/raw/test/39949d5d2d8855e391b87d8a932b5aaf.png\u001b[39m\u001b[38;5;124m'\u001b[39m)\n",
      "\u001b[0;31mNameError\u001b[0m: name 'Path' is not defined"
     ]
    }
   ],
   "source": [
    "sample_image_0 = Path('/vol/biodata/data/chest_xray/mimic-cxr-jpg/files/p10/p10002428/s59891001/df59ff50-56f1fd83-f3664b8b-8e2c67dd-d5f0d039.jpg')\n",
    "sample_image_1= Path('/vol/biodata/data/chest_xray/VinDr-CXR/1.0.0_png_512/raw/test/bfd1974dc9778aadb407a11b57ab748f.png')\n",
    "sample_image_2 = Path('/vol/biodata/data/chest_xray/VinDr-CXR/1.0.0_png_512/raw/test/39949d5d2d8855e391b87d8a932b5aaf.png')\n",
    "sample_images = [sample_image_0, sample_image_1, sample_image_2]"
   ]
  },
  {
   "cell_type": "code",
   "execution_count": 2,
   "metadata": {},
   "outputs": [
    {
     "ename": "NameError",
     "evalue": "name 'sample_images' is not defined",
     "output_type": "error",
     "traceback": [
      "\u001b[0;31m---------------------------------------------------------------------------\u001b[0m",
      "\u001b[0;31mNameError\u001b[0m                                 Traceback (most recent call last)",
      "Cell \u001b[0;32mIn[2], line 27\u001b[0m\n\u001b[1;32m     24\u001b[0m     \u001b[38;5;28;01mreturn\u001b[39;00m response\n\u001b[1;32m     26\u001b[0m prompt \u001b[38;5;241m=\u001b[39m \u001b[38;5;124m\"\u001b[39m\u001b[38;5;124mDescribe the findings\u001b[39m\u001b[38;5;124m\"\u001b[39m\n\u001b[0;32m---> 27\u001b[0m \u001b[38;5;28;01mfor\u001b[39;00m image \u001b[38;5;129;01min\u001b[39;00m \u001b[43msample_images\u001b[49m:\n\u001b[1;32m     28\u001b[0m     image \u001b[38;5;241m=\u001b[39m Image\u001b[38;5;241m.\u001b[39mopen(image)\u001b[38;5;241m.\u001b[39mconvert(\u001b[38;5;124m\"\u001b[39m\u001b[38;5;124mRGB\u001b[39m\u001b[38;5;124m\"\u001b[39m)\n\u001b[1;32m     29\u001b[0m     response \u001b[38;5;241m=\u001b[39m generate_with_forward_hooks(image, prompt, processor, model, device, dtype, generation_config)\n",
      "\u001b[0;31mNameError\u001b[0m: name 'sample_images' is not defined"
     ]
    }
   ],
   "source": [
    "# images = [Image.open(sample_image_0).convert(\"RGB\"), Image.open(sample_image).convert(\"RGB\"), Image.open(sample_image_2).convert(\"RGB\")]\n",
    "\n",
    "def generate_with_forward_hooks(images, prompt, processor, model, device, dtype, generation_config):\n",
    "    \n",
    "    # register hooks\n",
    "    patch_embeddings = model.vision_model.embeddings.patch_embedding.register_forward_hook(patch_embedding_hook)\n",
    "    post_layer_norm = model.vision_model.post_layernorm.register_forward_hook(post_layer_norm_hook)\n",
    "    language_projection = model.language_projection.register_forward_hook(language_projection_hook)\n",
    "    mistral_model = model.language_model.model.norm.register_forward_hook(mistral_model_output_hook)\n",
    "\n",
    "    # complete a forward pass \n",
    "    inputs = processor(\n",
    "        images=images, text=f\" USER: <s>{prompt} ASSISTANT: <s>\", return_tensors=\"pt\"\n",
    "    ).to(device=device, dtype=dtype)\n",
    "    output = model.generate(**inputs, generation_config=generation_config)[0]\n",
    "    response = processor.tokenizer.decode(output, skip_special_tokens=True)\n",
    "\n",
    "    # remove hooks\n",
    "    patch_embeddings.remove()\n",
    "    post_layer_norm.remove()\n",
    "    language_projection.remove()\n",
    "    mistral_model.remove()\n",
    "\n",
    "    return response\n",
    "\n",
    "prompt = \"Describe the findings\"\n",
    "for image in sample_images:\n",
    "    image = Image.open(image).convert(\"RGB\")\n",
    "    response = generate_with_forward_hooks(image, prompt, processor, model, device, dtype, generation_config)\n",
    "    print(response)"
   ]
  },
  {
   "cell_type": "code",
   "execution_count": 36,
   "metadata": {},
   "outputs": [
    {
     "name": "stdout",
     "output_type": "stream",
     "text": [
      "3\n",
      "shape of each q_former output: torch.Size([1, 128, 768])\n"
     ]
    }
   ],
   "source": [
    "print(len(q_former_outputs))\n",
    "print(f\"shape of each q_former output: {q_former_outputs[0].shape}\")"
   ]
  },
  {
   "cell_type": "code",
   "execution_count": 38,
   "metadata": {},
   "outputs": [
    {
     "name": "stdout",
     "output_type": "stream",
     "text": [
      "shape of flattened q_former output: torch.Size([98304])\n"
     ]
    }
   ],
   "source": [
    "q_former_outputs_flattened = [output.flatten() for output in q_former_outputs]\n",
    "print(f\"shape of flattened q_former output: {q_former_outputs_flattened[0].shape}\")"
   ]
  },
  {
   "cell_type": "code",
   "execution_count": 40,
   "metadata": {},
   "outputs": [
    {
     "name": "stdout",
     "output_type": "stream",
     "text": [
      "shape of q_former outputs numpy array: (3, 98304)\n"
     ]
    }
   ],
   "source": [
    "# construct a 2D numpy array from the flattened q_former outputs\n",
    "q_former_outputs_np = np.array(q_former_outputs_flattened)\n",
    "print(f\"shape of q_former outputs numpy array: {q_former_outputs_np.shape}\")"
   ]
  },
  {
   "cell_type": "code",
   "execution_count": 43,
   "metadata": {},
   "outputs": [
    {
     "name": "stdout",
     "output_type": "stream",
     "text": [
      "(3, 3)\n"
     ]
    }
   ],
   "source": [
    "from sklearn.decomposition import PCA\n",
    "pca = PCA(n_components=2)\n",
    "q_former_outputs_pca = pca.fit_transform(q_former_outputs_np)\n",
    "print(q_former_outputs_pca.shape)"
   ]
  },
  {
   "cell_type": "code",
   "execution_count": 45,
   "metadata": {},
   "outputs": [
    {
     "data": {
      "image/png": "[encoded data removed]",
      "text/plain": [
       "<Figure size 640x480 with 1 Axes>"
      ]
     },
     "metadata": {},
     "output_type": "display_data"
    }
   ],
   "source": [
    "# plot the PCA of the q_former outputs\n",
    "plt.scatter(q_former_outputs_pca[:, 0], q_former_outputs_pca[:, 1])\n",
    "plt.title(\"PCA of q_former outputs\")\n",
    "plt.show()"
   ]
  },
  {
   "cell_type": "code",
   "execution_count": 28,
   "metadata": {},
   "outputs": [
    {
     "name": "stdout",
     "output_type": "stream",
     "text": [
      "Outputs are different\n",
      "4\n",
      "torch.Size([1, 1408, 32, 32])\n",
      "patch_embeddings_flattened.shape=torch.Size([1, 1408, 1024])\n",
      "(1024, 100)\n"
     ]
    }
   ],
   "source": [
    "\n",
    "if all(torch.equal(patch_embeddings_outputs[0], output) for output in patch_embeddings_outputs):\n",
    "    print(f\"All {len(patch_embeddings_outputs)} outputs are the same\")\n",
    "    patch_embeddings_outputs = patch_embeddings_outputs[:1]\n",
    "else:\n",
    "    print(f\"Outputs are different\")\n",
    "    print(len(patch_embeddings_outputs))\n",
    "print(patch_embeddings_outputs[0].shape) # the extra dimension supports multiple input images\n",
    "\n",
    "# flatten the patch embeddings from (batch_size, embedding_dim, feature map width, feature map height) to (batch_size,feature map height * feature map width ,embedding_dim)\n",
    "patch_embeddings_flattened = patch_embeddings_outputs[0].reshape(patch_embeddings_outputs[0].shape[0],patch_embeddings_outputs[0].shape[1],-1)\n",
    "print(f\"{patch_embeddings_flattened.shape=}\")\n",
    "\n",
    "# apply PCA to reduce the dimensionality of the patch embeddings\n",
    "pca = PCA(n_components=100)\n",
    "patch_embeddings_pca = pca.fit_transform(patch_embeddings_flattened[0].T)\n",
    "print(patch_embeddings_pca.shape)\n",
    "\n"
   ]
  },
  {
   "cell_type": "code",
   "execution_count": 41,
   "metadata": {},
   "outputs": [
    {
     "name": "stdout",
     "output_type": "stream",
     "text": [
      "[7.2358694 7.2385015 7.243475  ... 7.2517977 7.251814  7.2522326]\n"
     ]
    }
   ],
   "source": [
    "from scipy.stats import entropy\n",
    "patch_embeddings_flattened = patch_embeddings_outputs[0].view(-1, patch_embeddings_outputs[0].shape[1])\n",
    "# normalize the patch embeddings so that they are in the range [0,1]\n",
    "patch_embeddings_normalized = (patch_embeddings_flattened - patch_embeddings_flattened.min()) / (patch_embeddings_flattened.max() - patch_embeddings_flattened.min())\n",
    "# calculate the entropy of each patch embedding\n",
    "patch_embeddings_entropy = entropy(patch_embeddings_normalized.T)\n",
    "# sort the entropy values and print the sorted values not the indices\n",
    "print(np.sort(patch_embeddings_entropy))"
   ]
  },
  {
   "cell_type": "code",
   "execution_count": 37,
   "metadata": {},
   "outputs": [
    {
     "name": "stdout",
     "output_type": "stream",
     "text": [
      "Outputs are different\n",
      "2\n",
      "torch.Size([1, 1025, 1408])\n",
      "torch.Size([1, 1408])\n"
     ]
    }
   ],
   "source": [
    "if all(torch.equal(post_layer_norm_outputs[0], output) for output in post_layer_norm_outputs):\n",
    "    print(f\"All {len(post_layer_norm_outputs)} outputs are the same\")\n",
    "    post_layer_norm_outputs = post_layer_norm_outputs[:1]\n",
    "else:\n",
    "    print(f\"Outputs are different\")\n",
    "    print(len(post_layer_norm_outputs))\n",
    "print(post_layer_norm_outputs[0].shape)\n",
    "print(post_layer_norm_outputs[1].shape)\n",
    "\n",
    "# compare all 1025 elements of post_layer_norm_outputs[0] with post_layer_norm_outputs[1]\n",
    "for i in range(1025):\n",
    "    if torch.equal(post_layer_norm_outputs[0][0][i], post_layer_norm_outputs[1][0]):\n",
    "        print(f\"Element {i} is same\")\n",
    "        print(post_layer_norm_outputs[0][0][i])\n",
    "        break\n"
   ]
  },
  {
   "cell_type": "code",
   "execution_count": 10,
   "metadata": {},
   "outputs": [
    {
     "name": "stdout",
     "output_type": "stream",
     "text": [
      "All 1 outputs are the same\n",
      "torch.Size([1, 128, 4096])\n"
     ]
    }
   ],
   "source": [
    "if all(torch.equal(language_projection_outputs[0], output) for output in language_projection_outputs):\n",
    "    print(f\"All {len(language_projection_outputs)} outputs are the same\")\n",
    "    language_projection_outputs = language_projection_outputs[:1]\n",
    "else:\n",
    "    print(f\"Outputs are different\")\n",
    "    print(len(language_projection_outputs))\n",
    "\n",
    "print(language_projection_outputs[0].shape)"
   ]
  },
  {
   "cell_type": "code",
   "execution_count": 11,
   "metadata": {},
   "outputs": [
    {
     "ename": "ValueError",
     "evalue": "perplexity must be less than n_samples",
     "output_type": "error",
     "traceback": [
      "\u001b[0;31m---------------------------------------------------------------------------\u001b[0m",
      "\u001b[0;31mValueError\u001b[0m                                Traceback (most recent call last)",
      "Cell \u001b[0;32mIn[11], line 4\u001b[0m\n\u001b[1;32m      2\u001b[0m tsne \u001b[38;5;241m=\u001b[39m TSNE(n_components\u001b[38;5;241m=\u001b[39m\u001b[38;5;241m2\u001b[39m, random_state\u001b[38;5;241m=\u001b[39m\u001b[38;5;241m42\u001b[39m)\n\u001b[1;32m      3\u001b[0m language_projection_outputs_flattened \u001b[38;5;241m=\u001b[39m torch\u001b[38;5;241m.\u001b[39mflatten(language_projection_outputs[\u001b[38;5;241m0\u001b[39m], start_dim\u001b[38;5;241m=\u001b[39m\u001b[38;5;241m1\u001b[39m)\n\u001b[0;32m----> 4\u001b[0m language_projection_outputs_tsne \u001b[38;5;241m=\u001b[39m \u001b[43mtsne\u001b[49m\u001b[38;5;241;43m.\u001b[39;49m\u001b[43mfit_transform\u001b[49m\u001b[43m(\u001b[49m\u001b[43mlanguage_projection_outputs_flattened\u001b[49m\u001b[43m)\u001b[49m\n\u001b[1;32m      5\u001b[0m \u001b[38;5;28mprint\u001b[39m(language_projection_outputs_tsne\u001b[38;5;241m.\u001b[39mshape)\n",
      "File \u001b[0;32m/vol/biomedic3/bglocker/ugproj2324/nns20/CheXagent/.venv/lib/python3.10/site-packages/sklearn/utils/_set_output.py:273\u001b[0m, in \u001b[0;36m_wrap_method_output.<locals>.wrapped\u001b[0;34m(self, X, *args, **kwargs)\u001b[0m\n\u001b[1;32m    271\u001b[0m \u001b[38;5;129m@wraps\u001b[39m(f)\n\u001b[1;32m    272\u001b[0m \u001b[38;5;28;01mdef\u001b[39;00m \u001b[38;5;21mwrapped\u001b[39m(\u001b[38;5;28mself\u001b[39m, X, \u001b[38;5;241m*\u001b[39margs, \u001b[38;5;241m*\u001b[39m\u001b[38;5;241m*\u001b[39mkwargs):\n\u001b[0;32m--> 273\u001b[0m     data_to_wrap \u001b[38;5;241m=\u001b[39m \u001b[43mf\u001b[49m\u001b[43m(\u001b[49m\u001b[38;5;28;43mself\u001b[39;49m\u001b[43m,\u001b[49m\u001b[43m \u001b[49m\u001b[43mX\u001b[49m\u001b[43m,\u001b[49m\u001b[43m \u001b[49m\u001b[38;5;241;43m*\u001b[39;49m\u001b[43margs\u001b[49m\u001b[43m,\u001b[49m\u001b[43m \u001b[49m\u001b[38;5;241;43m*\u001b[39;49m\u001b[38;5;241;43m*\u001b[39;49m\u001b[43mkwargs\u001b[49m\u001b[43m)\u001b[49m\n\u001b[1;32m    274\u001b[0m     \u001b[38;5;28;01mif\u001b[39;00m \u001b[38;5;28misinstance\u001b[39m(data_to_wrap, \u001b[38;5;28mtuple\u001b[39m):\n\u001b[1;32m    275\u001b[0m         \u001b[38;5;66;03m# only wrap the first output for cross decomposition\u001b[39;00m\n\u001b[1;32m    276\u001b[0m         return_tuple \u001b[38;5;241m=\u001b[39m (\n\u001b[1;32m    277\u001b[0m             _wrap_data_with_container(method, data_to_wrap[\u001b[38;5;241m0\u001b[39m], X, \u001b[38;5;28mself\u001b[39m),\n\u001b[1;32m    278\u001b[0m             \u001b[38;5;241m*\u001b[39mdata_to_wrap[\u001b[38;5;241m1\u001b[39m:],\n\u001b[1;32m    279\u001b[0m         )\n",
      "File \u001b[0;32m/vol/biomedic3/bglocker/ugproj2324/nns20/CheXagent/.venv/lib/python3.10/site-packages/sklearn/base.py:1351\u001b[0m, in \u001b[0;36m_fit_context.<locals>.decorator.<locals>.wrapper\u001b[0;34m(estimator, *args, **kwargs)\u001b[0m\n\u001b[1;32m   1344\u001b[0m     estimator\u001b[38;5;241m.\u001b[39m_validate_params()\n\u001b[1;32m   1346\u001b[0m \u001b[38;5;28;01mwith\u001b[39;00m config_context(\n\u001b[1;32m   1347\u001b[0m     skip_parameter_validation\u001b[38;5;241m=\u001b[39m(\n\u001b[1;32m   1348\u001b[0m         prefer_skip_nested_validation \u001b[38;5;129;01mor\u001b[39;00m global_skip_validation\n\u001b[1;32m   1349\u001b[0m     )\n\u001b[1;32m   1350\u001b[0m ):\n\u001b[0;32m-> 1351\u001b[0m     \u001b[38;5;28;01mreturn\u001b[39;00m \u001b[43mfit_method\u001b[49m\u001b[43m(\u001b[49m\u001b[43mestimator\u001b[49m\u001b[43m,\u001b[49m\u001b[43m \u001b[49m\u001b[38;5;241;43m*\u001b[39;49m\u001b[43margs\u001b[49m\u001b[43m,\u001b[49m\u001b[43m \u001b[49m\u001b[38;5;241;43m*\u001b[39;49m\u001b[38;5;241;43m*\u001b[39;49m\u001b[43mkwargs\u001b[49m\u001b[43m)\u001b[49m\n",
      "File \u001b[0;32m/vol/biomedic3/bglocker/ugproj2324/nns20/CheXagent/.venv/lib/python3.10/site-packages/sklearn/manifold/_t_sne.py:1125\u001b[0m, in \u001b[0;36mTSNE.fit_transform\u001b[0;34m(self, X, y)\u001b[0m\n\u001b[1;32m   1100\u001b[0m \u001b[38;5;129m@_fit_context\u001b[39m(\n\u001b[1;32m   1101\u001b[0m     \u001b[38;5;66;03m# TSNE.metric is not validated yet\u001b[39;00m\n\u001b[1;32m   1102\u001b[0m     prefer_skip_nested_validation\u001b[38;5;241m=\u001b[39m\u001b[38;5;28;01mFalse\u001b[39;00m\n\u001b[1;32m   1103\u001b[0m )\n\u001b[1;32m   1104\u001b[0m \u001b[38;5;28;01mdef\u001b[39;00m \u001b[38;5;21mfit_transform\u001b[39m(\u001b[38;5;28mself\u001b[39m, X, y\u001b[38;5;241m=\u001b[39m\u001b[38;5;28;01mNone\u001b[39;00m):\n\u001b[1;32m   1105\u001b[0m \u001b[38;5;250m    \u001b[39m\u001b[38;5;124;03m\"\"\"Fit X into an embedded space and return that transformed output.\u001b[39;00m\n\u001b[1;32m   1106\u001b[0m \n\u001b[1;32m   1107\u001b[0m \u001b[38;5;124;03m    Parameters\u001b[39;00m\n\u001b[0;32m   (...)\u001b[0m\n\u001b[1;32m   1123\u001b[0m \u001b[38;5;124;03m        Embedding of the training data in low-dimensional space.\u001b[39;00m\n\u001b[1;32m   1124\u001b[0m \u001b[38;5;124;03m    \"\"\"\u001b[39;00m\n\u001b[0;32m-> 1125\u001b[0m     \u001b[38;5;28;43mself\u001b[39;49m\u001b[38;5;241;43m.\u001b[39;49m\u001b[43m_check_params_vs_input\u001b[49m\u001b[43m(\u001b[49m\u001b[43mX\u001b[49m\u001b[43m)\u001b[49m\n\u001b[1;32m   1126\u001b[0m     embedding \u001b[38;5;241m=\u001b[39m \u001b[38;5;28mself\u001b[39m\u001b[38;5;241m.\u001b[39m_fit(X)\n\u001b[1;32m   1127\u001b[0m     \u001b[38;5;28mself\u001b[39m\u001b[38;5;241m.\u001b[39membedding_ \u001b[38;5;241m=\u001b[39m embedding\n",
      "File \u001b[0;32m/vol/biomedic3/bglocker/ugproj2324/nns20/CheXagent/.venv/lib/python3.10/site-packages/sklearn/manifold/_t_sne.py:836\u001b[0m, in \u001b[0;36mTSNE._check_params_vs_input\u001b[0;34m(self, X)\u001b[0m\n\u001b[1;32m    834\u001b[0m \u001b[38;5;28;01mdef\u001b[39;00m \u001b[38;5;21m_check_params_vs_input\u001b[39m(\u001b[38;5;28mself\u001b[39m, X):\n\u001b[1;32m    835\u001b[0m     \u001b[38;5;28;01mif\u001b[39;00m \u001b[38;5;28mself\u001b[39m\u001b[38;5;241m.\u001b[39mperplexity \u001b[38;5;241m>\u001b[39m\u001b[38;5;241m=\u001b[39m X\u001b[38;5;241m.\u001b[39mshape[\u001b[38;5;241m0\u001b[39m]:\n\u001b[0;32m--> 836\u001b[0m         \u001b[38;5;28;01mraise\u001b[39;00m \u001b[38;5;167;01mValueError\u001b[39;00m(\u001b[38;5;124m\"\u001b[39m\u001b[38;5;124mperplexity must be less than n_samples\u001b[39m\u001b[38;5;124m\"\u001b[39m)\n",
      "\u001b[0;31mValueError\u001b[0m: perplexity must be less than n_samples"
     ]
    }
   ],
   "source": [
    "# apply T-SNE to language projection outputs\n",
    "tsne = TSNE(n_components=2, random_state=42)\n",
    "language_projection_outputs_flattened = torch.flatten(language_projection_outputs[0], start_dim=1)\n",
    "language_projection_outputs_tsne = tsne.fit_transform(language_projection_outputs_flattened)\n",
    "print(language_projection_outputs_tsne.shape)\n"
   ]
  },
  {
   "cell_type": "code",
   "execution_count": 9,
   "metadata": {},
   "outputs": [
    {
     "name": "stdout",
     "output_type": "stream",
     "text": [
      "62\n",
      "Outputs are different\n",
      "torch.Size([5, 144, 4096])\n"
     ]
    }
   ],
   "source": [
    "print(len(mistral_model_outputs))\n",
    "if all(torch.equal(mistral_model_outputs[0], output) for output in mistral_model_outputs):\n",
    "    print(f\"All {len(mistral_model_outputs)} outputs are the same\")\n",
    "    mistral_model_outputs = mistral_model_outputs[:1]\n",
    "else:\n",
    "    print(f\"Outputs are different\")\n",
    "print(mistral_model_outputs[0].shape)"
   ]
  },
  {
   "cell_type": "code",
   "execution_count": null,
   "metadata": {},
   "outputs": [],
   "source": [
    "# use pickle to save the outputs\n",
    "# with open(\"patch_embeddings_outputs.pkl\", \"wb\") as f:\n",
    "#     pickle.dump(patch_embeddings_outputs, f)"
   ]
  }
 ],
 "metadata": {
  "kernelspec": {
   "display_name": "hi-ml-up-to-date-venv",
   "language": "python",
   "name": "python3"
  },
  "language_info": {
   "codemirror_mode": {
    "name": "ipython",
    "version": 3
   },
   "file_extension": ".py",
   "mimetype": "text/x-python",
   "name": "python",
   "nbconvert_exporter": "python",
   "pygments_lexer": "ipython3",
   "version": "3.10.12"
  }
 },
 "nbformat": 4,
 "nbformat_minor": 2
}
