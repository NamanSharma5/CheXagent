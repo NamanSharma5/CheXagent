{
 "cells": [
  {
   "cell_type": "code",
   "execution_count": 27,
   "metadata": {},
   "outputs": [],
   "source": [
    "import torch\n",
    "import torch.nn as nn\n",
    "from torch.utils.data import Dataset, DataLoader\n",
    "import numpy as np\n",
    "import pandas as pd\n",
    "from pathlib import Path\n",
    "from collections import defaultdict"
   ]
  },
  {
   "cell_type": "markdown",
   "metadata": {},
   "source": [
    "Dataset agnostic code"
   ]
  },
  {
   "cell_type": "code",
   "execution_count": 41,
   "metadata": {},
   "outputs": [],
   "source": [
    "def build_image_id_to_pathology_dict(file_path, pathologies, gt_header = False):\n",
    "    image_ids_to_pathologies = defaultdict(set)\n",
    "    pathologies = [pathology.lower() for pathology in pathologies]\n",
    "    with open(file_path, 'r') as f:\n",
    "        if gt_header:\n",
    "            header = f.readline() # skip header\n",
    "        for line in f.readlines():\n",
    "            line = line.strip().split(',')\n",
    "            for pathology in line[1:]:\n",
    "                    image_ids_to_pathologies[line[0]].add(pathology.lower())\n",
    "            \n",
    "            \n",
    "            # for pathology in line[1:]:\n",
    "            #     if pathology.lower() in pathologies:\n",
    "            #         image_ids_to_pathologies[line[0]].add(pathology.lower())\n",
    "                    \n",
    "    return image_ids_to_pathologies"
   ]
  },
  {
   "cell_type": "code",
   "execution_count": 121,
   "metadata": {},
   "outputs": [],
   "source": [
    "def normalize_labels(labels, synonym_mapping):\n",
    "    normalized_labels = set()\n",
    "    for label in labels:\n",
    "        found = False\n",
    "        for synonyms in synonym_mapping:\n",
    "            if label in synonyms:\n",
    "                normalized_labels.add(frozenset(synonyms))  # Adding the frozenset of synonyms\n",
    "                found = True\n",
    "                break\n",
    "        if not found:\n",
    "            normalized_labels.add(label)\n",
    "    return normalized_labels\n",
    "\n",
    "def contains_no_finding(label_set, synonym_mappings):\n",
    "    for synonyms in synonym_mappings:\n",
    "        if \"no finding\" in synonyms:\n",
    "            if frozenset(synonyms) in label_set:\n",
    "                return True\n",
    "    return False\n",
    "\n",
    "def calculate_metrics(ground_truth, predictions, synonym_mappings = []):\n",
    "\n",
    "     # Normalize each set of pathologies in the ground truth and predictions using the provided synonym mappings\n",
    "    normalized_ground_truth = {image_id: normalize_labels(gt_labels, synonym_mappings) for image_id, gt_labels in ground_truth.items()}\n",
    "    normalized_predictions = {image_id: normalize_labels(pred_labels, synonym_mappings) for image_id, pred_labels in predictions.items()}\n",
    "    \n",
    "    # print both normalized ground truth and predictions sorted by image_id , print going across the screen\n",
    "\n",
    "    exact_matches = 0\n",
    "    exact_no_finding = 0\n",
    "    exact_one_pathology = 0\n",
    "    exact_multiple_pathologies = 0\n",
    "\n",
    "    total_no_finding = 0\n",
    "    total_one_pathology = 0\n",
    "    total_multiple_pathologies = 0\n",
    "\n",
    "\n",
    "    correct_matches = 0\n",
    "    correct_no_finding = 0\n",
    "    correct_pathology = 0\n",
    "\n",
    "    for image_id, ground_truth_labels in normalized_ground_truth.items():\n",
    "        pred_labels = normalized_predictions.get(image_id, set())\n",
    "\n",
    "        is_no_finding = \"no finding\" in ground_truth_labels or contains_no_finding(ground_truth_labels, synonym_mappings)\n",
    "        if is_no_finding:\n",
    "            total_no_finding += 1\n",
    "        elif len(ground_truth_labels) == 1:\n",
    "            total_one_pathology += 1\n",
    "        else:  # Assuming any non-empty set of labels greater than 1 is 'multiple pathologies'\n",
    "            total_multiple_pathologies += 1\n",
    "        \n",
    "        # Calculate exact matches (Metric 1)\n",
    "        if ground_truth_labels == pred_labels:\n",
    "            exact_matches += 1\n",
    "            # Update metrics for matches (Metric 2)\n",
    "            if \"no finding\" in ground_truth_labels or contains_no_finding(ground_truth_labels, synonym_mappings):\n",
    "                exact_no_finding += 1\n",
    "            elif len(ground_truth_labels) == 1:\n",
    "                exact_one_pathology += 1\n",
    "            else:\n",
    "                exact_multiple_pathologies += 1\n",
    "        \n",
    "        # Calculate individual correct matches (Metric 3)\n",
    "        matched_pathologies = ground_truth_labels.intersection(pred_labels)\n",
    "        correct_matches += len(matched_pathologies)\n",
    "        \n",
    "        # Update metrics for matches (Metric 4)\n",
    "        for pathology in matched_pathologies:\n",
    "            if \"no finding\" in ground_truth_labels or contains_no_finding({pathology}, synonym_mappings):\n",
    "                correct_no_finding += 1\n",
    "            else:\n",
    "                correct_pathology += 1\n",
    "    \n",
    "    # Calculate metrics\n",
    "    n = len(ground_truth)\n",
    "    exact_matches_percentage = exact_matches / n\n",
    "    exact_no_finding_percentage = exact_no_finding / total_no_finding if total_no_finding > 0 else 0\n",
    "    exact_one_pathology_percentage = exact_one_pathology / total_one_pathology if total_one_pathology > 0 else 0\n",
    "    exact_multiple_pathologies_percentage = exact_multiple_pathologies / total_multiple_pathologies if total_multiple_pathologies > 0 else 0\n",
    "    \n",
    "    print(f\"Dataset Characteristics:\")\n",
    "    print(f\"No finding proportion: {total_no_finding/n:.2f}\")\n",
    "    print(f\"One pathology proportion: {total_one_pathology/n:.2f}\")\n",
    "    print(f\"Multiple pathologies proportion: {total_multiple_pathologies/n:.2f}\")\n",
    "    \n",
    "    print(f\"\\nExact Matches Characteristics:\")\n",
    "    print(f\"Exact matches: {exact_matches_percentage:.2f}\")\n",
    "    print(f\"Exact no finding: {exact_no_finding_percentage:.2f}\")\n",
    "    print(f\"Exact one pathology: {exact_one_pathology_percentage:.2f}\")\n",
    "    print(f\"Exact multiple pathologies: {exact_multiple_pathologies_percentage:.2f}\")\n",
    "    \n",
    "    total_num_of_pathologies = sum([len(pathologies) for pathologies in ground_truth.values()])\n",
    "    correct_matches_percentage = correct_matches / total_num_of_pathologies\n",
    "    correct_no_finding_percentage = correct_no_finding / total_no_finding if total_no_finding > 0 else 0\n",
    "    correct_pathology_percentage = correct_pathology / (total_num_of_pathologies - total_no_finding) if total_num_of_pathologies - total_no_finding > 0 else 0\n",
    "    \n",
    "    print(f\"\\nIndividual Pathology Characteristics:\")\n",
    "    print(f\"Correct matches: {correct_matches_percentage:.2f}\")\n",
    "    print(f\"Correct no finding: {correct_no_finding_percentage:.2f}\")\n",
    "    print(f\"Correct pathology: {correct_pathology_percentage:.2f}\")\n",
    "\n",
    "    return exact_matches / n, exact_no_finding / n, exact_one_pathology / n, exact_multiple_pathologies / n, correct_matches / total_num_of_pathologies, correct_no_finding / total_num_of_pathologies, correct_pathology / total_num_of_pathologies\n"
   ]
  },
  {
   "cell_type": "markdown",
   "metadata": {},
   "source": [
    "CheXpert specific"
   ]
  },
  {
   "cell_type": "code",
   "execution_count": 43,
   "metadata": {},
   "outputs": [],
   "source": [
    "# CheXpert paths\n",
    "cheXpert_test_ground_truth_path = Path(\"/vol/biomedic3/bglocker/ugproj2324/nns20/datasets/CheXpert/test_written_pathologies\")\n",
    "cheXpert_layer_norm_predictions_path = Path(\"/vol/biomedic3/bglocker/ugproj2324/nns20/CheXagent/evaluation/CheXpert/probe_results/chexpert_layer_norm_predictions.csv\")\n",
    "cheXpert_q_former_predictions_path = Path(\"/vol/biomedic3/bglocker/ugproj2324/nns20/CheXagent/evaluation/CheXpert/probe_results/chexpert_q_former_predictions.csv\")\n",
    "cheXpert_cheXagent_predictions_path = Path(\"/vol/biomedic3/bglocker/ugproj2324/nns20/CheXagent/evaluation/CheXpert/identify_pathologies\")\n",
    "\n",
    "xrv_224_chex_path = Path(\"/vol/biomedic3/bglocker/ugproj2324/nns20/torchxrayvision/evaluations/CheXpert_evaluation_results/test_set/xrv_224_chex.txt\")\n",
    "xrv_224_path = Path(\"/vol/biomedic3/bglocker/ugproj2324/nns20/torchxrayvision/evaluations/CheXpert_evaluation_results/test_set/xrv_224.txt\")\n",
    "xrv_512_path = Path(\"/vol/biomedic3/bglocker/ugproj2324/nns20/torchxrayvision/evaluations/CheXpert_evaluation_results/test_set/xrv_512.txt\")\n",
    "\n",
    "# CheXpert pathologies\n",
    "cheXpert_pathologies = ['No Finding','Enlarged Cardiomediastinum','Cardiomegaly','Lung Opacity',\n",
    "        'Lung Lesion','Edema','Consolidation','Pneumonia','Atelectasis','Pneumothorax',\n",
    "        'Pleural Effusion','Pleural Other','Fracture','Support Devices']"
   ]
  },
  {
   "cell_type": "code",
   "execution_count": 52,
   "metadata": {},
   "outputs": [],
   "source": [
    "cheXpert_test_ground_truth = build_image_id_to_pathology_dict(cheXpert_test_ground_truth_path,cheXpert_pathologies, gt_header = False)\n",
    "cheXpert_layer_norm_predictions = build_image_id_to_pathology_dict(cheXpert_layer_norm_predictions_path,cheXpert_pathologies, gt_header = False)\n",
    "cheXpert_q_former_predictions = build_image_id_to_pathology_dict(cheXpert_q_former_predictions_path,cheXpert_pathologies, gt_header = False)\n",
    "cheXpert_cheXagent_predictions = build_image_id_to_pathology_dict(cheXpert_cheXagent_predictions_path,cheXpert_pathologies, gt_header = False)\n",
    "\n",
    "\n",
    "xrv_224_chex = build_image_id_to_pathology_dict(xrv_224_chex_path,cheXpert_pathologies, gt_header = False)\n",
    "xrv_224 = build_image_id_to_pathology_dict(xrv_224_path,cheXpert_pathologies, gt_header = False)\n",
    "xrv_512 = build_image_id_to_pathology_dict(xrv_512_path,cheXpert_pathologies, gt_header = False)"
   ]
  },
  {
   "cell_type": "code",
   "execution_count": 124,
   "metadata": {},
   "outputs": [
    {
     "name": "stdout",
     "output_type": "stream",
     "text": [
      "CheXpert Layer Norm:\n",
      "Dataset Characteristics:\n",
      "No finding proportion: 0.25\n",
      "One pathology proportion: 0.18\n",
      "Multiple pathologies proportion: 0.57\n",
      "\n",
      "Exact Matches Characteristics:\n",
      "Exact matches: 0.22\n",
      "Exact no finding: 0.61\n",
      "Exact one pathology: 0.26\n",
      "Exact multiple pathologies: 0.03\n",
      "\n",
      "Individual Pathology Characteristics:\n",
      "Correct matches: 0.54\n",
      "Correct no finding: 0.62\n",
      "Correct pathology: 0.54\n"
     ]
    }
   ],
   "source": [
    "print(\"CheXpert Layer Norm:\")\n",
    "_ = calculate_metrics(cheXpert_test_ground_truth, cheXpert_layer_norm_predictions)"
   ]
  },
  {
   "cell_type": "code",
   "execution_count": 125,
   "metadata": {},
   "outputs": [
    {
     "name": "stdout",
     "output_type": "stream",
     "text": [
      "CheXpert Q-Former:\n",
      "Dataset Characteristics:\n",
      "No finding proportion: 0.25\n",
      "One pathology proportion: 0.18\n",
      "Multiple pathologies proportion: 0.57\n",
      "\n",
      "Exact Matches Characteristics:\n",
      "Exact matches: 0.29\n",
      "Exact no finding: 0.90\n",
      "Exact one pathology: 0.31\n",
      "Exact multiple pathologies: 0.02\n",
      "\n",
      "Individual Pathology Characteristics:\n",
      "Correct matches: 0.44\n",
      "Correct no finding: 0.91\n",
      "Correct pathology: 0.39\n"
     ]
    }
   ],
   "source": [
    "print(\"CheXpert Q-Former:\")\n",
    "_ = calculate_metrics(cheXpert_test_ground_truth, cheXpert_q_former_predictions)\n"
   ]
  },
  {
   "cell_type": "code",
   "execution_count": 126,
   "metadata": {},
   "outputs": [
    {
     "name": "stdout",
     "output_type": "stream",
     "text": [
      "CheXagent:\n",
      "Dataset Characteristics:\n",
      "No finding proportion: 0.25\n",
      "One pathology proportion: 0.18\n",
      "Multiple pathologies proportion: 0.57\n",
      "\n",
      "Exact Matches Characteristics:\n",
      "Exact matches: 0.12\n",
      "Exact no finding: 0.43\n",
      "Exact one pathology: 0.06\n",
      "Exact multiple pathologies: 0.00\n",
      "\n",
      "Individual Pathology Characteristics:\n",
      "Correct matches: 0.20\n",
      "Correct no finding: 0.43\n",
      "Correct pathology: 0.18\n"
     ]
    }
   ],
   "source": [
    "print(\"CheXagent:\")\n",
    "synonym_mappings = [\n",
    "    {'no finding', 'no pathologies'}, \n",
    "    {'enlarged cardiomediastinum', 'enlarged cardiac silhouette'},\n",
    "    {'edema','pulmonary edema/hazy opacity'}\n",
    "]\n",
    "_ = calculate_metrics(cheXpert_test_ground_truth, cheXpert_cheXagent_predictions, synonym_mappings)"
   ]
  },
  {
   "cell_type": "code",
   "execution_count": 127,
   "metadata": {},
   "outputs": [
    {
     "name": "stdout",
     "output_type": "stream",
     "text": [
      "XRV-224-CheX:\n",
      "Dataset Characteristics:\n",
      "No finding proportion: 0.25\n",
      "One pathology proportion: 0.18\n",
      "Multiple pathologies proportion: 0.57\n",
      "\n",
      "Exact Matches Characteristics:\n",
      "Exact matches: 0.07\n",
      "Exact no finding: 0.30\n",
      "Exact one pathology: 0.00\n",
      "Exact multiple pathologies: 0.00\n",
      "\n",
      "Individual Pathology Characteristics:\n",
      "Correct matches: 0.64\n",
      "Correct no finding: 0.30\n",
      "Correct pathology: 0.68\n"
     ]
    }
   ],
   "source": [
    "print(\"XRV-224-CheX:\")\n",
    "_ = calculate_metrics(cheXpert_test_ground_truth, xrv_224_chex)"
   ]
  },
  {
   "cell_type": "code",
   "execution_count": 129,
   "metadata": {},
   "outputs": [
    {
     "name": "stdout",
     "output_type": "stream",
     "text": [
      "XRV-224:\n",
      "Dataset Characteristics:\n",
      "No finding proportion: 0.25\n",
      "One pathology proportion: 0.18\n",
      "Multiple pathologies proportion: 0.57\n",
      "\n",
      "Exact Matches Characteristics:\n",
      "Exact matches: 0.01\n",
      "Exact no finding: 0.05\n",
      "Exact one pathology: 0.00\n",
      "Exact multiple pathologies: 0.00\n",
      "\n",
      "Individual Pathology Characteristics:\n",
      "Correct matches: 0.64\n",
      "Correct no finding: 0.05\n",
      "Correct pathology: 0.70\n"
     ]
    }
   ],
   "source": [
    "print(\"XRV-224:\")\n",
    "_ = calculate_metrics(cheXpert_test_ground_truth, xrv_224)"
   ]
  },
  {
   "cell_type": "code",
   "execution_count": 130,
   "metadata": {},
   "outputs": [
    {
     "name": "stdout",
     "output_type": "stream",
     "text": [
      "XRV-512:\n",
      "Dataset Characteristics:\n",
      "No finding proportion: 0.25\n",
      "One pathology proportion: 0.18\n",
      "Multiple pathologies proportion: 0.57\n",
      "\n",
      "Exact Matches Characteristics:\n",
      "Exact matches: 0.23\n",
      "Exact no finding: 0.94\n",
      "Exact one pathology: 0.00\n",
      "Exact multiple pathologies: 0.00\n",
      "\n",
      "Individual Pathology Characteristics:\n",
      "Correct matches: 0.11\n",
      "Correct no finding: 0.94\n",
      "Correct pathology: 0.02\n"
     ]
    }
   ],
   "source": [
    "print(\"XRV-512:\")\n",
    "_ = calculate_metrics(cheXpert_test_ground_truth, xrv_512)"
   ]
  },
  {
   "cell_type": "markdown",
   "metadata": {},
   "source": [
    "VinDr specific"
   ]
  },
  {
   "cell_type": "code",
   "execution_count": null,
   "metadata": {},
   "outputs": [],
   "source": [
    "vindr_pathologies = [\"Aortic enlargement\", \"Atelectasis\", \"Calcification\", \"Cardiomegaly\",\n",
    "            \"Clavicle fracture\", \"Consolidation\", \"Emphysema\", \"Enlarged PA\",\n",
    "            \"ILD\", \"Infiltration\", \"Lung Opacity\", \"Lung cavity\", \"Lung cyst\",\n",
    "            \"Mediastinal shift\",\"Nodule/Mass\", \"Pleural effusion\", \"Pleural thickening\",\n",
    "            \"Pneumothorax\", \"Pulmonary fibrosis\",\"Rib fracture\", \"Other lesion\",\n",
    "            \"No finding\"] \n"
   ]
  }
 ],
 "metadata": {
  "kernelspec": {
   "display_name": ".venv",
   "language": "python",
   "name": "python3"
  },
  "language_info": {
   "codemirror_mode": {
    "name": "ipython",
    "version": 3
   },
   "file_extension": ".py",
   "mimetype": "text/x-python",
   "name": "python",
   "nbconvert_exporter": "python",
   "pygments_lexer": "ipython3",
   "version": "3.10.12"
  }
 },
 "nbformat": 4,
 "nbformat_minor": 2
}
